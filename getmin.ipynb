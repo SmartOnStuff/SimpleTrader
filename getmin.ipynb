{
 "cells": [
  {
   "cell_type": "code",
   "execution_count": null,
   "id": "da4a2a86",
   "metadata": {
    "vscode": {
     "languageId": "plaintext"
    }
   },
   "outputs": [],
   "source": [
    "#!/usr/bin/env python3\n",
    "\"\"\"\n",
    "Fetch the LOT_SIZE.minQty (and related filters) for a given symbol\n",
    "from Binance's public REST API.\n",
    "\"\"\"\n",
    "\n",
    "import sys\n",
    "import requests\n",
    "\n",
    "BINANCE_API = \"https://api.binance.com\"\n",
    "EXCHANGE_INFO = \"/api/v3/exchangeInfo\"\n",
    "\n",
    "def get_lot_size_filters(symbol: str) -> dict:\n",
    "    \"\"\"\n",
    "    Retrieve the LOT_SIZE filter for `symbol` from Binance's /exchangeInfo.\n",
    "\n",
    "    Returns a dict with keys: minQty, maxQty, stepSize (all strings).\n",
    "    Raises on network errors or if symbol / filter is missing.\n",
    "    \"\"\"\n",
    "    url = f\"{BINANCE_API}{EXCHANGE_INFO}?symbol={symbol}\"\n",
    "    resp = requests.get(url, timeout=10)\n",
    "    resp.raise_for_status()             # throws for HTTP errors\n",
    "    data = resp.json()\n",
    "\n",
    "    symbols = data.get(\"symbols\")\n",
    "    if not symbols:\n",
    "        raise ValueError(f\"No symbol data returned for {symbol!r}\")\n",
    "\n",
    "    filters = symbols[0].get(\"filters\", [])\n",
    "    for f in filters:\n",
    "        if f.get(\"filterType\") == \"LOT_SIZE\":\n",
    "            return {\n",
    "                \"minQty\": f[\"minQty\"],\n",
    "                \"maxQty\": f[\"maxQty\"],\n",
    "                \"stepSize\": f[\"stepSize\"],\n",
    "            }\n",
    "\n",
    "    raise ValueError(f\"LOT_SIZE filter not found for {symbol!r}\")\n",
    "\n",
    "\n",
    "def main():\n",
    "    # You can change this to any symbol you care about\n",
    "    symbol = \"REDUSDC\"\n",
    "\n",
    "    try:\n",
    "        lot_size = get_lot_size_filters(symbol)\n",
    "    except Exception as e:\n",
    "        print(f\"Error fetching LOT_SIZE for {symbol}: {e}\", file=sys.stderr)\n",
    "        sys.exit(1)\n",
    "\n",
    "    print(f\"Symbol      : {symbol}\")\n",
    "    print(f\"minQty      : {lot_size['minQty']}\")\n",
    "    print(f\"maxQty      : {lot_size['maxQty']}\")\n",
    "    print(f\"stepSize    : {lot_size['stepSize']}\")\n",
    "\n",
    "\n",
    "if __name__ == \"__main__\":\n",
    "    main()\n"
   ]
  }
 ],
 "metadata": {
  "language_info": {
   "name": "python"
  }
 },
 "nbformat": 4,
 "nbformat_minor": 5
}
